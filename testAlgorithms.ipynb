{
 "cells": [
  {
   "cell_type": "markdown",
   "metadata": {},
   "source": [
    "#                       Tester for Post Quantum algorithms"
   ]
  },
  {
   "cell_type": "markdown",
   "metadata": {},
   "source": [
    "# KEM"
   ]
  },
  {
   "cell_type": "markdown",
   "metadata": {},
   "source": [
    "KYBER_PQCRYPTO"
   ]
  },
  {
   "cell_type": "code",
   "execution_count": 3,
   "metadata": {},
   "outputs": [
    {
     "name": "stdout",
     "output_type": "stream",
     "text": [
      "True\n"
     ]
    }
   ],
   "source": [
    "from modules.kemAlgLib import KYBER_PQCRYPTO\n",
    "kemAlg = KYBER_PQCRYPTO()\n",
    "pk, sk = kemAlg.generate_keypair()\n",
    "ct, ss = kemAlg.encrypt(pk)\n",
    "ss1 = kemAlg.decrypt(sk, ct)\n",
    "if ss == ss1: print(\"True\")\n",
    "else: print(\"False\")"
   ]
  },
  {
   "cell_type": "markdown",
   "metadata": {},
   "source": [
    "KYBER_PY"
   ]
  },
  {
   "cell_type": "code",
   "execution_count": 4,
   "metadata": {},
   "outputs": [
    {
     "name": "stdout",
     "output_type": "stream",
     "text": [
      "Error importing AES CTR DRBG. Have you tried installing requirements?\n",
      "ImportError: No module named 'aes256_ctr_drbg'\n",
      "\n",
      "Kyber will work perfectly fine with system randomness\n",
      "True\n"
     ]
    }
   ],
   "source": [
    "from modules.kemAlgLib import KYBER_PY\n",
    "kemAlg = KYBER_PY()\n",
    "pk, sk = kemAlg.generate_keypair()\n",
    "ct, ss = kemAlg.encrypt(pk)\n",
    "ss1 = kemAlg.decrypt(sk, ct)\n",
    "if ss == ss1: print(\"True\")\n",
    "else: print(\"False\")"
   ]
  },
  {
   "cell_type": "markdown",
   "metadata": {},
   "source": [
    "# SIGNATURE"
   ]
  },
  {
   "cell_type": "markdown",
   "metadata": {},
   "source": [
    "DILITHIUM_PQCRYPTO"
   ]
  },
  {
   "cell_type": "code",
   "execution_count": 7,
   "metadata": {},
   "outputs": [
    {
     "name": "stdout",
     "output_type": "stream",
     "text": [
      "True\n"
     ]
    }
   ],
   "source": [
    "from modules.signAlgLib import DILITHIUM_PQCRYPTO\n",
    "signAlg=DILITHIUM_PQCRYPTO()\n",
    "pk, sk = signAlg.generate_keypair()\n",
    "signature = signAlg.sign(sk,\"Hello\")\n",
    "if signAlg.verify(pk,\"Hello\", signature):\n",
    "    print(\"True\")\n",
    "else: print(\"False\")"
   ]
  },
  {
   "cell_type": "markdown",
   "metadata": {},
   "source": [
    "FALCON_PQCRYPTO"
   ]
  },
  {
   "cell_type": "code",
   "execution_count": 8,
   "metadata": {},
   "outputs": [
    {
     "name": "stdout",
     "output_type": "stream",
     "text": [
      "TRUE\n"
     ]
    }
   ],
   "source": [
    "from modules.signAlgLib import FALCON_PQCRYPTO\n",
    "signAlg=FALCON_PQCRYPTO()\n",
    "pk, sk = signAlg.generate_keypair()\n",
    "signature = signAlg.sign(sk,\"Hello\")\n",
    "if signAlg.verify(pk,\"Hello\", signature):\n",
    "    print(\"True\")\n",
    "else: print(\"False\")"
   ]
  },
  {
   "cell_type": "markdown",
   "metadata": {},
   "source": [
    "FALCON_official"
   ]
  },
  {
   "cell_type": "code",
   "execution_count": 6,
   "metadata": {},
   "outputs": [
    {
     "name": "stdout",
     "output_type": "stream",
     "text": [
      "TRUE\n"
     ]
    }
   ],
   "source": [
    "from modules.signAlgLib import FALCON_official\n",
    "signAlg=FALCON_official()\n",
    "pk, sk = signAlg.generate_keypair()\n",
    "signature = signAlg.sign(sk,\"Hello\")\n",
    "if signAlg.verify(pk,\"Hello\", signature):\n",
    "    print(\"True\")\n",
    "else: print(\"False\")"
   ]
  },
  {
   "cell_type": "markdown",
   "metadata": {},
   "source": [
    "SPHINCSPlus_PQCRYPTO"
   ]
  },
  {
   "cell_type": "code",
   "execution_count": 9,
   "metadata": {},
   "outputs": [
    {
     "name": "stdout",
     "output_type": "stream",
     "text": [
      "TRUE\n"
     ]
    }
   ],
   "source": [
    "from modules.signAlgLib import SPHINCSPlus_PQCRYPTO\n",
    "signAlg=SPHINCSPlus_PQCRYPTO()\n",
    "pk, sk = signAlg.generate_keypair()\n",
    "signature = signAlg.sign(sk,\"Hello\")\n",
    "if signAlg.verify(pk,\"Hello\", signature):\n",
    "    print(\"True\")\n",
    "else: print(\"False\")"
   ]
  },
  {
   "cell_type": "markdown",
   "metadata": {},
   "source": [
    "SPHINCSPlus_Tottifi"
   ]
  },
  {
   "cell_type": "code",
   "execution_count": 10,
   "metadata": {},
   "outputs": [
    {
     "name": "stdout",
     "output_type": "stream",
     "text": [
      "TRUE\n"
     ]
    }
   ],
   "source": [
    "from modules.signAlgLib import SPHINCSPlus_Tottifi\n",
    "signAlg=SPHINCSPlus_Tottifi()\n",
    "pk, sk = signAlg.generate_keypair()\n",
    "signature = signAlg.sign(sk,\"Hello\")\n",
    "if signAlg.verify(pk,\"Hello\", signature):\n",
    "    print(\"True\")\n",
    "else: print(\"False\")"
   ]
  }
 ],
 "metadata": {
  "kernelspec": {
   "display_name": "pqcvenv",
   "language": "python",
   "name": "python3"
  },
  "language_info": {
   "codemirror_mode": {
    "name": "ipython",
    "version": 3
   },
   "file_extension": ".py",
   "mimetype": "text/x-python",
   "name": "python",
   "nbconvert_exporter": "python",
   "pygments_lexer": "ipython3",
   "version": "3.12.1"
  }
 },
 "nbformat": 4,
 "nbformat_minor": 2
}
