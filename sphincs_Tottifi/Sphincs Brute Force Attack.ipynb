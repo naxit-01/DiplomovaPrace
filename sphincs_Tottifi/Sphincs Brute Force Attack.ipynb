{
 "cells": [
  {
   "cell_type": "code",
   "execution_count": 1,
   "metadata": {},
   "outputs": [],
   "source": [
    "from package.sphincs import Sphincs"
   ]
  },
  {
   "cell_type": "markdown",
   "metadata": {},
   "source": [
    "### Instantiate a $SPHINCS^+$ Object and Setting parameters ###\n",
    "\n",
    "We will be using :\n",
    "   - Security Parameter: $n=2$\n",
    "   - Winternitz Parameter: $w=16$\n",
    "   - Hypertree Height: $h=4$\n",
    "   - Hypertree Layers: $d=2$\n",
    "   - $FORS$ Trees Number: $k=4$\n",
    "   - $FORS$ Trees Height: $a=2$"
   ]
  },
  {
   "cell_type": "code",
   "execution_count": 15,
   "metadata": {},
   "outputs": [],
   "source": [
    "sphincs = Sphincs()\n",
    "\n",
    "sphincs.set_n(2)\n",
    "sphincs.set_h(4)\n",
    "sphincs.set_d(2)\n",
    "sphincs.set_k(4)\n",
    "sphincs.set_a(2)"
   ]
  },
  {
   "cell_type": "markdown",
   "metadata": {},
   "source": [
    "### Generating a Key Pair ###"
   ]
  },
  {
   "cell_type": "code",
   "execution_count": 16,
   "metadata": {},
   "outputs": [
    {
     "name": "stdout",
     "output_type": "stream",
     "text": [
      "Secret Key:  b'[\\xa8%\\x10\\xb0\\x9bM\\xf0'\n",
      "\n",
      "Public Key:  b'\\xb0\\x9bM\\xf0'\n"
     ]
    }
   ],
   "source": [
    "sk, pk = sphincs.generate_key_pair()\n",
    "print(\"Secret Key: \", sk)\n",
    "print()\n",
    "print(\"Public Key: \", pk)"
   ]
  },
  {
   "cell_type": "markdown",
   "metadata": {},
   "source": [
    "### Signing M ###"
   ]
  },
  {
   "cell_type": "code",
   "execution_count": 17,
   "metadata": {},
   "outputs": [
    {
     "name": "stdout",
     "output_type": "stream",
     "text": [
      "Signature Size:  58\n"
     ]
    }
   ],
   "source": [
    "m = b'Ripples of paradox spread out across the sea of causality.'\n",
    "\n",
    "signature = sphincs.sign(m, sk)\n",
    "\n",
    "print(\"Signature Size: \", len(signature))"
   ]
  },
  {
   "cell_type": "code",
   "execution_count": 18,
   "metadata": {},
   "outputs": [
    {
     "name": "stdout",
     "output_type": "stream",
     "text": [
      "Is signature Correct ?  True\n"
     ]
    }
   ],
   "source": [
    "print(\"Is signature Correct ? \", sphincs.verify(signature, m, pk))"
   ]
  },
  {
   "cell_type": "markdown",
   "metadata": {},
   "source": [
    "### Trying to find secret key with a Brute Force Attack on Secret Key###"
   ]
  },
  {
   "cell_type": "code",
   "execution_count": 21,
   "metadata": {},
   "outputs": [
    {
     "name": "stdout",
     "output_type": "stream",
     "text": [
      "Secret Key Found:  b'\\x12\\xf1\\x00\\x00\\xb0\\x9bM\\xf0' \n",
      "With main Private Seed:  b'\\x12\\xf1'\n",
      "Cycles:  4849\n",
      "\n",
      "Did we found the actual Private Seed?  False\n",
      "We found a collision with the main seed!\n"
     ]
    }
   ],
   "source": [
    "sk_crack = bytes()\n",
    "\n",
    "for i in range(0, 2 ** (sphincs._n * 8)):\n",
    "    sk_crack = i.to_bytes(sphincs._n, 'big')  # Secret Key\n",
    "    \n",
    "    sk_crack += bytes(sphincs._n)   # Random Secret PRF, important to prevent forged messages from actual messages\n",
    "                                    # But Because we are brute forcing Secret Key, messages are forged before\n",
    "                                    # We don't need to create a really random one (0 is fine)\n",
    "    sk_crack += pk  # Public Key\n",
    "    \n",
    "    sig_crack = sphincs.sign(m, sk_crack)  # Creating a signature\n",
    "    \n",
    "    if sphincs.verify(sig_crack, m, pk):  # Check if signature could be trust with the Public Key\n",
    "        print(\"Secret Key Found: \", sk_crack, \"\\nWith main Private Seed: \", sk_crack[:sphincs._n])\n",
    "        print(\"Cycles: \", i)\n",
    "        break\n",
    "\n",
    "print(\"\\nDid we found the actual Private Seed? \", sk[:sphincs._n] == sk_crack[:sphincs._n])\n",
    "\n",
    "if sk[:sphincs._n] != sk_crack[:sphincs._n]:\n",
    "    print(\"We found a collision with the main seed!\")"
   ]
  },
  {
   "cell_type": "markdown",
   "metadata": {},
   "source": [
    "### Trying to forge message with found Key ###"
   ]
  },
  {
   "cell_type": "code",
   "execution_count": 24,
   "metadata": {},
   "outputs": [
    {
     "name": "stdout",
     "output_type": "stream",
     "text": [
      "58\n"
     ]
    }
   ],
   "source": [
    "m2 = b'The pen is mightier than the sword ... if the sword is very short, and the pen is very sharp.'\n",
    "\n",
    "signature2 = sphincs.sign(m2, sk_crack)\n",
    "\n",
    "print(len(signature2))"
   ]
  },
  {
   "cell_type": "code",
   "execution_count": 25,
   "metadata": {},
   "outputs": [
    {
     "name": "stdout",
     "output_type": "stream",
     "text": [
      "Is signature Correct ?  False\n"
     ]
    }
   ],
   "source": [
    "print(\"Is signature Correct ? \", sphincs.verify(signature2, m, pk))"
   ]
  },
  {
   "cell_type": "markdown",
   "metadata": {},
   "source": [
    "Our signature is wrong because we tried finding the secret key using only $m$ signature, with $m_2$, this kind of collision doesn't work !\n",
    "We need to find the real secret key in order to forge our own message, and so test every possibilities."
   ]
  },
  {
   "cell_type": "code",
   "execution_count": null,
   "metadata": {},
   "outputs": [],
   "source": []
  }
 ],
 "metadata": {
  "kernelspec": {
   "display_name": "Python 3",
   "language": "python",
   "name": "python3"
  },
  "language_info": {
   "codemirror_mode": {
    "name": "ipython",
    "version": 3
   },
   "file_extension": ".py",
   "mimetype": "text/x-python",
   "name": "python",
   "nbconvert_exporter": "python",
   "pygments_lexer": "ipython3",
   "version": "3.7.5"
  }
 },
 "nbformat": 4,
 "nbformat_minor": 2
}
