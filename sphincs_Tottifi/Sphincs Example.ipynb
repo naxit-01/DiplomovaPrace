{
 "cells": [
  {
   "cell_type": "markdown",
   "metadata": {},
   "source": [
    "# $SPHINCS^+$ Python : Example #\n",
    "\n",
    "### Importing $SPHINCS^+$ Class ###"
   ]
  },
  {
   "cell_type": "code",
   "execution_count": 1,
   "metadata": {},
   "outputs": [],
   "source": [
    "from package.sphincs import Sphincs"
   ]
  },
  {
   "cell_type": "markdown",
   "metadata": {},
   "source": [
    "### Instantiate a $SPHINCS^+$ Object and Setting parameters ###\n",
    "\n",
    "By default, $SPHINCS^+$ parameters are set like:\n",
    "   - Security Parameter: $n=16$\n",
    "   - Winternitz Parameter: $w=16$ (Should be set as 4, 16 or 256)\n",
    "   - Hypertree Height: $h=64$\n",
    "   - Hypertree Layers: $d=8$ ($d|h$)\n",
    "   - $FORS$ Trees Number: $k=10$\n",
    "   - $FORS$ Trees Height: $a=15$\n",
    "\n",
    "Changes must be done before keys generations, signing and verification"
   ]
  },
  {
   "cell_type": "code",
   "execution_count": 2,
   "metadata": {},
   "outputs": [],
   "source": [
    "sphincs = Sphincs()\n",
    "\n",
    "sphincs.set_winternitz(4)\n",
    "# Or\n",
    "sphincs.set_w(4)\n",
    "\n",
    "sphincs.set_hypertree_height(32)"
   ]
  },
  {
   "cell_type": "markdown",
   "metadata": {},
   "source": [
    "### Generating a Key Pair ### "
   ]
  },
  {
   "cell_type": "code",
   "execution_count": 3,
   "metadata": {},
   "outputs": [
    {
     "name": "stdout",
     "output_type": "stream",
     "text": [
      "Secret Key:  b'-Q\\x9c\\xc3j\\x84UM\\x9a)J\\xd7\\xa9!w\\xac)In\\x7fj\\xba\\x95[\\x86:`\\xdc\\x7f[5\\xed\\xd5\\x94\\xa7\\x18\\x83\\x8b\\xf0\\xde\\xdc\\xf96Go\\x00\\xabq\\xb8\\xa7u\\xa7\\xc1q\\xaf\\xe3)\\xb9\\xf9\\xa5\\x0c1\\x01\\xf7'\n",
      "\n",
      "Public Key:  b'\\xd5\\x94\\xa7\\x18\\x83\\x8b\\xf0\\xde\\xdc\\xf96Go\\x00\\xabq\\xb8\\xa7u\\xa7\\xc1q\\xaf\\xe3)\\xb9\\xf9\\xa5\\x0c1\\x01\\xf7'\n"
     ]
    }
   ],
   "source": [
    "sk, pk = sphincs.generate_key_pair()\n",
    "print(\"Secret Key: \", sk)\n",
    "print()\n",
    "print(\"Public Key: \", pk)"
   ]
  },
  {
   "cell_type": "markdown",
   "metadata": {},
   "source": [
    "### Signing a Message ###\n",
    "\n",
    "The message must be in a $bytes()$ format"
   ]
  },
  {
   "cell_type": "code",
   "execution_count": 4,
   "metadata": {},
   "outputs": [
    {
     "name": "stdout",
     "output_type": "stream",
     "text": [
      "Message to be signed:  b'No one knows the reason for all this, but it is probably quantum. - Pyramids, Terry Pratchett (1989)'\n"
     ]
    }
   ],
   "source": [
    "m = b\"No one knows the reason for all this, but it is probably quantum. - Pyramids, Terry Pratchett (1989)\"\n",
    "print(\"Message to be signed: \", m)"
   ]
  },
  {
   "cell_type": "code",
   "execution_count": 5,
   "metadata": {
    "scrolled": false
   },
   "outputs": [],
   "source": [
    "signature = sphincs.sign(m, sk)"
   ]
  },
  {
   "cell_type": "code",
   "execution_count": 6,
   "metadata": {},
   "outputs": [
    {
     "name": "stdout",
     "output_type": "stream",
     "text": [
      "Signature bytes-size:  11792\n"
     ]
    }
   ],
   "source": [
    "print(\"Signature bytes-size: \", len(signature))"
   ]
  },
  {
   "cell_type": "markdown",
   "metadata": {},
   "source": [
    "### Verifying a Signature associated with a Message ###"
   ]
  },
  {
   "cell_type": "code",
   "execution_count": 7,
   "metadata": {},
   "outputs": [
    {
     "name": "stdout",
     "output_type": "stream",
     "text": [
      "Is signature correct ?  True\n"
     ]
    }
   ],
   "source": [
    "print(\"Is signature correct ? \", sphincs.verify(m, signature, pk))"
   ]
  },
  {
   "cell_type": "code",
   "execution_count": null,
   "metadata": {},
   "outputs": [],
   "source": []
  }
 ],
 "metadata": {
  "kernelspec": {
   "display_name": "Python 3",
   "language": "python",
   "name": "python3"
  },
  "language_info": {
   "codemirror_mode": {
    "name": "ipython",
    "version": 3
   },
   "file_extension": ".py",
   "mimetype": "text/x-python",
   "name": "python",
   "nbconvert_exporter": "python",
   "pygments_lexer": "ipython3",
   "version": "3.7.5"
  }
 },
 "nbformat": 4,
 "nbformat_minor": 2
}
